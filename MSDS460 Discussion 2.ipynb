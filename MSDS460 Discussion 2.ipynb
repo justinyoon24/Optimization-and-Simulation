{
 "cells": [
  {
   "cell_type": "code",
   "execution_count": 1,
   "id": "78b5a5a3",
   "metadata": {},
   "outputs": [],
   "source": [
    "from pulp import LpVariable, LpProblem, LpMaximize, LpMinimize, LpStatus, value"
   ]
  },
  {
   "cell_type": "code",
   "execution_count": 2,
   "id": "021c0313",
   "metadata": {},
   "outputs": [],
   "source": [
    "#Create Variables\n",
    "M1 = LpVariable(\"M1\",0,None)\n",
    "M2 = LpVariable(\"M2\",0,None)\n",
    "M3 = LpVariable(\"M3\",0,None)\n",
    "B1 = LpVariable(\"B1\",0,None)\n",
    "B2 = LpVariable(\"B2\",0,None)\n",
    "B3 = LpVariable(\"B3\",0,None)"
   ]
  },
  {
   "cell_type": "code",
   "execution_count": 3,
   "id": "2438f9db",
   "metadata": {},
   "outputs": [],
   "source": [
    "#Define problem\n",
    "prob = LpProblem(\"problem\", LpMinimize)"
   ]
  },
  {
   "cell_type": "code",
   "execution_count": 5,
   "id": "a72df8ff",
   "metadata": {},
   "outputs": [],
   "source": [
    "#Define constraints\n",
    "prob += M1 + B1 == 3000\n",
    "prob += M2 + B2 == 2000\n",
    "prob += M3 + B3 == 900\n",
    "prob += 2*M1 + 1.5*M2 + 3*M3 <= 10000\n",
    "prob += M1 + 2*M2 + M3 <= 5000\n",
    "prob += 50*M1 + 83*M2 + 130*M3 + 61*B1 + 97*B2 + 145*B3"
   ]
  },
  {
   "cell_type": "code",
   "execution_count": 9,
   "id": "28d47d83",
   "metadata": {},
   "outputs": [
    {
     "name": "stdout",
     "output_type": "stream",
     "text": [
      "Welcome to the CBC MILP Solver \n",
      "Version: 2.10.3 \n",
      "Build Date: Dec 15 2019 \n",
      "\n",
      "command line - /opt/anaconda3/lib/python3.9/site-packages/pulp/apis/../solverdir/cbc/osx/64/cbc /var/folders/q1/q8gb7gbx7t9_07mq6xmp20vr0000gn/T/41ee64bc6fc54685816d109a557eff09-pulp.mps timeMode elapsed branch printingOptions all solution /var/folders/q1/q8gb7gbx7t9_07mq6xmp20vr0000gn/T/41ee64bc6fc54685816d109a557eff09-pulp.sol (default strategy 1)\n",
      "At line 2 NAME          MODEL\n",
      "At line 3 ROWS\n",
      "At line 15 COLUMNS\n",
      "At line 46 RHS\n",
      "At line 57 BOUNDS\n",
      "At line 58 ENDATA\n",
      "Problem MODEL has 10 rows, 6 columns and 24 elements\n",
      "Coin0008I MODEL read with 0 errors\n",
      "Option for timeMode changed from cpu to elapsed\n",
      "Presolve 2 (-8) rows, 3 (-3) columns and 6 (-18) elements\n",
      "0  Obj 433000 Primal inf 2016.6667 (2)\n",
      "1  Obj 453300\n",
      "Optimal - objective value 453300\n",
      "After Postsolve, objective 453300, infeasibilities - dual 0 (0), primal 0 (0)\n",
      "Optimal objective 453300 - 1 iterations time 0.002, Presolve 0.00\n",
      "Option for printingOptions changed from normal to all\n",
      "Total time (CPU seconds):       0.00   (Wallclock seconds):       0.02\n",
      "\n",
      "B1= 0.0\n",
      "B2= 1450.0\n",
      "B3= 0.0\n",
      "M1= 3000.0\n",
      "M2= 550.0\n",
      "M3= 900.0\n",
      "Total Cost = 453300.0\n"
     ]
    }
   ],
   "source": [
    "#Solve problem\n",
    "status = prob.solve()\n",
    "LpStatus[status]\n",
    "for variable in prob.variables():\n",
    "    print(f\"{variable.name}= {variable.varValue}\")\n",
    "\n",
    "print(f\"Total Cost = {value(prob.objective)}\")"
   ]
  },
  {
   "cell_type": "code",
   "execution_count": null,
   "id": "5d5e054a",
   "metadata": {},
   "outputs": [],
   "source": []
  }
 ],
 "metadata": {
  "kernelspec": {
   "display_name": "Python 3 (ipykernel)",
   "language": "python",
   "name": "python3"
  },
  "language_info": {
   "codemirror_mode": {
    "name": "ipython",
    "version": 3
   },
   "file_extension": ".py",
   "mimetype": "text/x-python",
   "name": "python",
   "nbconvert_exporter": "python",
   "pygments_lexer": "ipython3",
   "version": "3.9.7"
  }
 },
 "nbformat": 4,
 "nbformat_minor": 5
}
