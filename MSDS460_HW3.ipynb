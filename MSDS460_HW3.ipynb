{
 "cells": [
  {
   "cell_type": "code",
   "execution_count": 144,
   "id": "579ae66e",
   "metadata": {},
   "outputs": [],
   "source": [
    "import numpy as np\n",
    "from scipy.optimize import minimize\n",
    "import pandas as pd\n",
    "import cvxpy as cp\n",
    "import matplotlib.pyplot as plt\n",
    "from IPython.core.interactiveshell import InteractiveShell\n",
    "InteractiveShell.ast_node_interactivity = \"all\""
   ]
  },
  {
   "cell_type": "code",
   "execution_count": 122,
   "id": "f43d1da1",
   "metadata": {},
   "outputs": [],
   "source": [
    "data = {'A':[.0012,.0013,.0013,.0011,.0011,.0013,.0012,.0013,.0013,.0011,.0008,.0007,.0097,.0007,.0007,.0006,.0006,.0005,.0006,.0006,.0006,.0007,.0011,.0013,.0017],\n",
    "        'B':[-.0032,.003,-.0004,-.0086,-.0018,.0115,.0074,.0034,.0082,-.0123,-.0145,-.0071,.075,.0014,.0099,-.0042,-.0003,-.0081,.0149,.0063,.0046,.0178,-.0064,.0182,.0191],\n",
    "        'C':[.0448,-.0069,.007,-.0465,.0303,.0237,.0233,.0069,.0533,.0438,.0276,-.0101,.1831,.0384,.1095,-.0266,-.038,.0719,.0564,.0199,.0476,.1281,-.124,-.0824,-.0004],\n",
    "        'D':[.0058,-.0503,.0543,-.004,.002,-.0124,.0346,-.0066,.0423,-.0039,.0521,.0285,.3185,.0724,.1826,.005,-.0304,.072,.0571,.04,.0879,.1581,-.214,-.0801,-.0062],\n",
    "        'E':[.0510,-.0466,.0246,-.0281,.0176,.0072,-.0144,.0361,.0309,.0235,.0226,-.0109,.0817,.0464,.1554,-.0397,-.026,.0512,.0233,.0344,.045,.0642,-.1387,-.0774,-.0273]}    "
   ]
  },
  {
   "cell_type": "code",
   "execution_count": 123,
   "id": "e12a6fb9",
   "metadata": {},
   "outputs": [],
   "source": [
    "df = pd.DataFrame(data)"
   ]
  },
  {
   "cell_type": "code",
   "execution_count": 124,
   "id": "ee15ff9c",
   "metadata": {},
   "outputs": [],
   "source": [
    "return_data = df.to_numpy().T"
   ]
  },
  {
   "cell_type": "code",
   "execution_count": 125,
   "id": "11513846",
   "metadata": {},
   "outputs": [],
   "source": [
    "investments = df.columns"
   ]
  },
  {
   "cell_type": "code",
   "execution_count": 126,
   "id": "ced48bb9",
   "metadata": {},
   "outputs": [],
   "source": [
    "r = np.asarray(np.mean(return_data, axis=1))"
   ]
  },
  {
   "cell_type": "code",
   "execution_count": 127,
   "id": "53079700",
   "metadata": {},
   "outputs": [],
   "source": [
    "C = np.asmatrix(np.cov(return_data))"
   ]
  },
  {
   "cell_type": "code",
   "execution_count": 128,
   "id": "adc5c089",
   "metadata": {},
   "outputs": [
    {
     "name": "stdout",
     "output_type": "stream",
     "text": [
      "A: Exp ret = 0.001324, Variance = 0.000003\n",
      "B: Exp ret = 0.005352, Variance = 0.000300\n",
      "C: Exp ret = 0.023228, Variance = 0.004050\n",
      "D: Exp ret = 0.032212, Variance = 0.009263\n",
      "E: Exp ret = 0.012240, Variance = 0.003255\n"
     ]
    }
   ],
   "source": [
    "for j in range(len(investments)):\n",
    "    print ('%s: Exp ret = %f, Variance = %f' %(investments[j],r[j], C[j,j]))"
   ]
  },
  {
   "cell_type": "code",
   "execution_count": 129,
   "id": "d5c4d10c",
   "metadata": {},
   "outputs": [],
   "source": [
    "# Number of variables\n",
    "n = len(investments)\n",
    "\n",
    "# The variables vector\n",
    "x = cp.Variable(n)\n",
    "\n",
    "# The minimum return\n",
    "req_return = 0.005\n",
    "\n",
    "# The return\n",
    "ret = r.T@x\n",
    "\n",
    "# The risk in xT.Q.x format\n",
    "risk = cp.quad_form(x, C)\n",
    "\n",
    "# The core problem definition with the Problem class from CVXPY\n",
    "prob = cp.Problem(cp.Minimize(risk), [sum(x)==1, ret >= req_return, x >= 0])\n",
    "    "
   ]
  },
  {
   "cell_type": "code",
   "execution_count": 130,
   "id": "ddae890a",
   "metadata": {},
   "outputs": [
    {
     "data": {
      "text/plain": [
       "0.00012870222420174453"
      ]
     },
     "execution_count": 130,
     "metadata": {},
     "output_type": "execute_result"
    },
    {
     "name": "stdout",
     "output_type": "stream",
     "text": [
      "Optimal portfolio\n",
      "----------------------\n",
      " Investment in A : 74.4% of the portfolio\n",
      " Investment in B : 10.8% of the portfolio\n",
      " Investment in C : 14.8% of the portfolio\n",
      " Investment in D : 0.0% of the portfolio\n",
      " Investment in E : -0.0% of the portfolio\n",
      "----------------------\n",
      "Exp ret = 0.005000000000000001\n",
      "Expected risk    = 0.00012870222420174453\n"
     ]
    }
   ],
   "source": [
    "prob.status\n",
    "prob.solve()\n",
    "print (\"Optimal portfolio\")\n",
    "print (\"----------------------\")\n",
    "for s in range(len(investments)):\n",
    "    print (\" Investment in {} : {}% of the portfolio\".format(investments[s],round(100*x.value[s],2)))\n",
    "print (\"----------------------\")\n",
    "print (\"Exp ret = {}\".format(ret.value))\n",
    "print (\"Expected risk    = {}\".format(risk.value))"
   ]
  },
  {
   "cell_type": "code",
   "execution_count": 141,
   "id": "94e2b2ca",
   "metadata": {},
   "outputs": [],
   "source": [
    "# Number of variables\n",
    "n = len(investments)\n",
    "\n",
    "# The variables vector\n",
    "x = cp.Variable(n)\n",
    "\n",
    "# The minimum return\n",
    "req_return = 0.01\n",
    "\n",
    "# The return\n",
    "ret = r.T@x\n",
    "\n",
    "# The risk in xT.Q.x format\n",
    "risk = cp.quad_form(x, C)\n",
    "\n",
    "# The core problem definition with the Problem class from CVXPY\n",
    "prob2 = cp.Problem(cp.Minimize(risk), [sum(x)==1, ret >= req_return, x >= 0])"
   ]
  },
  {
   "cell_type": "code",
   "execution_count": 142,
   "id": "a8d03c67",
   "metadata": {},
   "outputs": [
    {
     "data": {
      "text/plain": [
       "0.0006377741471984857"
      ]
     },
     "execution_count": 142,
     "metadata": {},
     "output_type": "execute_result"
    },
    {
     "name": "stdout",
     "output_type": "stream",
     "text": [
      "Optimal portfolio\n",
      "----------------------\n",
      " Investment in A : 31.68% of the portfolio\n",
      " Investment in B : 35.18% of the portfolio\n",
      " Investment in C : 33.14% of the portfolio\n",
      " Investment in D : -0.0% of the portfolio\n",
      " Investment in E : 0.0% of the portfolio\n",
      "----------------------\n",
      "Exp ret = 0.01\n",
      "Expected risk    = 0.0006377741471984857\n"
     ]
    }
   ],
   "source": [
    "prob2.status\n",
    "prob2.solve()\n",
    "print (\"Optimal portfolio\")\n",
    "print (\"----------------------\")\n",
    "for s in range(len(investments)):\n",
    "    print (\" Investment in {} : {}% of the portfolio\".format(investments[s],round(100*x.value[s],2)))\n",
    "print (\"----------------------\")\n",
    "print (\"Exp ret = {}\".format(ret.value))\n",
    "print (\"Expected risk    = {}\".format(risk.value))"
   ]
  },
  {
   "cell_type": "code",
   "execution_count": 133,
   "id": "0f19fcf9",
   "metadata": {},
   "outputs": [],
   "source": [
    "# Number of variables\n",
    "n = len(investments)\n",
    "\n",
    "# The variables vector\n",
    "x = cp.Variable(n)\n",
    "\n",
    "# The minimum return\n",
    "req_return = 0.015\n",
    "\n",
    "# The return\n",
    "ret = r.T@x\n",
    "\n",
    "# The risk in xT.Q.x format\n",
    "risk = cp.quad_form(x, C)\n",
    "\n",
    "# The core problem definition with the Problem class from CVXPY\n",
    "prob3 = cp.Problem(cp.Minimize(risk), [sum(x)==1, ret >= req_return, x >= 0])"
   ]
  },
  {
   "cell_type": "code",
   "execution_count": 134,
   "id": "10614810",
   "metadata": {},
   "outputs": [
    {
     "data": {
      "text/plain": [
       "0.0015387789051004642"
      ]
     },
     "execution_count": 134,
     "metadata": {},
     "output_type": "execute_result"
    },
    {
     "name": "stdout",
     "output_type": "stream",
     "text": [
      "Optimal portfolio\n",
      "----------------------\n",
      " Investment in A : 0.0% of the portfolio\n",
      " Investment in B : 46.03% of the portfolio\n",
      " Investment in C : 53.97% of the portfolio\n",
      " Investment in D : 0.0% of the portfolio\n",
      " Investment in E : 0.0% of the portfolio\n",
      "----------------------\n",
      "Exp ret = 0.015\n",
      "Expected risk    = 0.0015387789051004642\n"
     ]
    }
   ],
   "source": [
    "prob3.status\n",
    "prob3.solve()\n",
    "print (\"Optimal portfolio\")\n",
    "print (\"----------------------\")\n",
    "for s in range(len(investments)):\n",
    "    print (\" Investment in {} : {}% of the portfolio\".format(investments[s],round(100*x.value[s],2)))\n",
    "print (\"----------------------\")\n",
    "print (\"Exp ret = {}\".format(ret.value))\n",
    "print (\"Expected risk    = {}\".format(risk.value))"
   ]
  },
  {
   "cell_type": "code",
   "execution_count": 135,
   "id": "471c12af",
   "metadata": {},
   "outputs": [],
   "source": [
    "# Number of variables\n",
    "n = len(investments)\n",
    "\n",
    "# The variables vector\n",
    "x = cp.Variable(n)\n",
    "\n",
    "# The minimum return\n",
    "req_return = 0.02\n",
    "\n",
    "# The return\n",
    "ret = r.T@x\n",
    "\n",
    "# The risk in xT.Q.x format\n",
    "risk = cp.quad_form(x, C)\n",
    "\n",
    "# The core problem definition with the Problem class from CVXPY\n",
    "prob4 = cp.Problem(cp.Minimize(risk), [sum(x)==1, ret >= req_return, x >= 0])"
   ]
  },
  {
   "cell_type": "code",
   "execution_count": 136,
   "id": "3af88575",
   "metadata": {},
   "outputs": [
    {
     "data": {
      "text/plain": [
       "0.002901434740094829"
      ]
     },
     "execution_count": 136,
     "metadata": {},
     "output_type": "execute_result"
    },
    {
     "name": "stdout",
     "output_type": "stream",
     "text": [
      "Optimal portfolio\n",
      "----------------------\n",
      " Investment in A : 0.0% of the portfolio\n",
      " Investment in B : 20.42% of the portfolio\n",
      " Investment in C : 74.88% of the portfolio\n",
      " Investment in D : 4.7% of the portfolio\n",
      " Investment in E : -0.0% of the portfolio\n",
      "----------------------\n",
      "Exp ret = 0.02\n",
      "Expected risk    = 0.002901434740094829\n"
     ]
    }
   ],
   "source": [
    "prob4.status\n",
    "prob4.solve()\n",
    "print (\"Optimal portfolio\")\n",
    "print (\"----------------------\")\n",
    "for s in range(len(investments)):\n",
    "    print (\" Investment in {} : {}% of the portfolio\".format(investments[s],round(100*x.value[s],2)))\n",
    "print (\"----------------------\")\n",
    "print (\"Exp ret = {}\".format(ret.value))\n",
    "print (\"Expected risk    = {}\".format(risk.value))"
   ]
  },
  {
   "cell_type": "code",
   "execution_count": 137,
   "id": "0df58b29",
   "metadata": {},
   "outputs": [],
   "source": [
    "# Number of variables\n",
    "n = len(investments)\n",
    "\n",
    "# The variables vector\n",
    "x = cp.Variable(n)\n",
    "\n",
    "# The minimum return\n",
    "req_return = 0.025\n",
    "\n",
    "# The return\n",
    "ret = r.T@x\n",
    "\n",
    "# The risk in xT.Q.x format\n",
    "risk = cp.quad_form(x, C)\n",
    "\n",
    "# The core problem definition with the Problem class from CVXPY\n",
    "prob5 = cp.Problem(cp.Minimize(risk), [sum(x)==1, ret >= req_return, x >= 0])"
   ]
  },
  {
   "cell_type": "code",
   "execution_count": 138,
   "id": "63f19c1a",
   "metadata": {},
   "outputs": [
    {
     "data": {
      "text/plain": [
       "0.004753051232125642"
      ]
     },
     "execution_count": 138,
     "metadata": {},
     "output_type": "execute_result"
    },
    {
     "name": "stdout",
     "output_type": "stream",
     "text": [
      "Optimal portfolio\n",
      "----------------------\n",
      " Investment in A : 0.0% of the portfolio\n",
      " Investment in B : 0.0% of the portfolio\n",
      " Investment in C : 80.28% of the portfolio\n",
      " Investment in D : 19.72% of the portfolio\n",
      " Investment in E : 0.0% of the portfolio\n",
      "----------------------\n",
      "Exp ret = 0.02500000000000001\n",
      "Expected risk    = 0.004753051232125642\n"
     ]
    }
   ],
   "source": [
    "prob5.status\n",
    "prob5.solve()\n",
    "print (\"Optimal portfolio\")\n",
    "print (\"----------------------\")\n",
    "for s in range(len(investments)):\n",
    "    print (\" Investment in {} : {}% of the portfolio\".format(investments[s],round(100*x.value[s],2)))\n",
    "print (\"----------------------\")\n",
    "print (\"Exp ret = {}\".format(ret.value))\n",
    "print (\"Expected risk    = {}\".format(risk.value))"
   ]
  },
  {
   "cell_type": "code",
   "execution_count": 139,
   "id": "e750660e",
   "metadata": {},
   "outputs": [],
   "source": [
    "# Number of variables\n",
    "n = len(investments)\n",
    "\n",
    "# The variables vector\n",
    "x = cp.Variable(n)\n",
    "\n",
    "# The minimum return\n",
    "req_return = 0.03\n",
    "\n",
    "# The return\n",
    "ret = r.T@x\n",
    "\n",
    "# The risk in xT.Q.x format\n",
    "risk = cp.quad_form(x, C)\n",
    "\n",
    "# The core problem definition with the Problem class from CVXPY\n",
    "prob6 = cp.Problem(cp.Minimize(risk), [sum(x)==1, ret >= req_return, x >= 0])"
   ]
  },
  {
   "cell_type": "code",
   "execution_count": 140,
   "id": "7525774d",
   "metadata": {},
   "outputs": [
    {
     "data": {
      "text/plain": [
       "0.007598290355826174"
      ]
     },
     "execution_count": 140,
     "metadata": {},
     "output_type": "execute_result"
    },
    {
     "name": "stdout",
     "output_type": "stream",
     "text": [
      "Optimal portfolio\n",
      "----------------------\n",
      " Investment in A : -0.0% of the portfolio\n",
      " Investment in B : -0.0% of the portfolio\n",
      " Investment in C : 24.62% of the portfolio\n",
      " Investment in D : 75.38% of the portfolio\n",
      " Investment in E : -0.0% of the portfolio\n",
      "----------------------\n",
      "Exp ret = 0.029999999999999995\n",
      "Expected risk    = 0.007598290355826174\n"
     ]
    }
   ],
   "source": [
    "prob6.status\n",
    "prob6.solve()\n",
    "print (\"Optimal portfolio\")\n",
    "print (\"----------------------\")\n",
    "for s in range(len(investments)):\n",
    "    print (\" Investment in {} : {}% of the portfolio\".format(investments[s],round(100*x.value[s],2)))\n",
    "print (\"----------------------\")\n",
    "print (\"Exp ret = {}\".format(ret.value))\n",
    "print (\"Expected risk    = {}\".format(risk.value))"
   ]
  },
  {
   "cell_type": "code",
   "execution_count": 145,
   "id": "a1a0d1ee",
   "metadata": {},
   "outputs": [
    {
     "data": {
      "text/plain": [
       "[<matplotlib.lines.Line2D at 0x7f8bb6f2f190>]"
      ]
     },
     "execution_count": 145,
     "metadata": {},
     "output_type": "execute_result"
    },
    {
     "data": {
      "text/plain": [
       "Text(0.5, 0, 'Variance')"
      ]
     },
     "execution_count": 145,
     "metadata": {},
     "output_type": "execute_result"
    },
    {
     "data": {
      "text/plain": [
       "Text(0, 0.5, 'Return')"
      ]
     },
     "execution_count": 145,
     "metadata": {},
     "output_type": "execute_result"
    },
    {
     "data": {
      "image/png": "[encoded data removed]",
      "text/plain": [
       "<Figure size 432x288 with 1 Axes>"
      ]
     },
     "metadata": {
      "needs_background": "light"
     },
     "output_type": "display_data"
    }
   ],
   "source": [
    "Variance = [0.00012870222420174453,0.0006377741471984857,0.0015387789051004642,0.002901434740094829,0.004753051232125642,0.007598290355826174]\n",
    "Return = [0.005000000000000001,0.01,0.015,0.02,0.025,0.03]\n",
    "\n",
    "plt.plot(Variance, Return)\n",
    "plt.xlabel('Variance')\n",
    "plt.ylabel('Return')"
   ]
  },
  {
   "cell_type": "code",
   "execution_count": null,
   "id": "3fefb869",
   "metadata": {},
   "outputs": [],
   "source": []
  }
 ],
 "metadata": {
  "kernelspec": {
   "display_name": "Python 3 (ipykernel)",
   "language": "python",
   "name": "python3"
  },
  "language_info": {
   "codemirror_mode": {
    "name": "ipython",
    "version": 3
   },
   "file_extension": ".py",
   "mimetype": "text/x-python",
   "name": "python",
   "nbconvert_exporter": "python",
   "pygments_lexer": "ipython3",
   "version": "3.9.7"
  }
 },
 "nbformat": 4,
 "nbformat_minor": 5
}
